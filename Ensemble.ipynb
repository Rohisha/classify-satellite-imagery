{
 "cells": [
  {
   "cell_type": "code",
   "execution_count": 1,
   "metadata": {
    "collapsed": true
   },
   "outputs": [],
   "source": [
    "import numpy as np\n",
    "from sklearn.metrics import fbeta_score"
   ]
  },
  {
   "cell_type": "code",
   "execution_count": 6,
   "metadata": {
    "collapsed": true
   },
   "outputs": [],
   "source": [
    "p_valid_ResNet = np.load(\"resNet_predict.npy\")\n",
    "p_valid_CNN = np.load(\"github/classify-satellite-imagery/CNN_predict.npy\")\n",
    "y_valid = np.load(\"github/classify-satellite-imagery/target_validation.npy\")\n",
    "y_valid2 = np.load(\"target_validation.npy\")"
   ]
  },
  {
   "cell_type": "code",
   "execution_count": 7,
   "metadata": {
    "collapsed": false
   },
   "outputs": [
    {
     "name": "stdout",
     "output_type": "stream",
     "text": [
      "0.904463238204\n"
     ]
    }
   ],
   "source": [
    "# Average the models \n",
    "p_valid_Ensemble = (p_valid_ResNet + p_valid_CNN) / 2\n",
    "score = fbeta_score(y_valid, np.array(p_valid_Ensemble) > 0.2, beta=2, average='samples')\n",
    "print(score)"
   ]
  },
  {
   "cell_type": "code",
   "execution_count": 9,
   "metadata": {
    "collapsed": false
   },
   "outputs": [
    {
     "name": "stdout",
     "output_type": "stream",
     "text": [
      "0.904224757707\n"
     ]
    }
   ],
   "source": [
    "p_valid_Ensemble = (p_valid_CNN)\n",
    "score = fbeta_score(y_valid, np.array(p_valid_Ensemble) > 0.2, beta=2, average='samples')\n",
    "print(score)"
   ]
  }
 ],
 "metadata": {
  "kernelspec": {
   "display_name": "Python 3",
   "language": "python",
   "name": "python3"
  },
  "language_info": {
   "codemirror_mode": {
    "name": "ipython",
    "version": 3
   },
   "file_extension": ".py",
   "mimetype": "text/x-python",
   "name": "python",
   "nbconvert_exporter": "python",
   "pygments_lexer": "ipython3",
   "version": "3.5.2"
  }
 },
 "nbformat": 4,
 "nbformat_minor": 0
}
